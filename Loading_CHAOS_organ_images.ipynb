{
  "nbformat": 4,
  "nbformat_minor": 0,
  "metadata": {
    "colab": {
      "name": "Loading CHAOS organ images.ipynb",
      "version": "0.3.2",
      "provenance": [],
      "include_colab_link": true
    },
    "kernelspec": {
      "name": "python3",
      "display_name": "Python 3"
    }
  },
  "cells": [
    {
      "cell_type": "markdown",
      "metadata": {
        "id": "view-in-github",
        "colab_type": "text"
      },
      "source": [
        "<a href=\"https://colab.research.google.com/github/vannorman/U-net-medical/blob/master/Loading_CHAOS_organ_images.ipynb\" target=\"_parent\"><img src=\"https://colab.research.google.com/assets/colab-badge.svg\" alt=\"Open In Colab\"/></a>"
      ]
    },
    {
      "metadata": {
        "id": "MBnzTi3D3Xb2",
        "colab_type": "code",
        "colab": {
          "base_uri": "https://localhost:8080/",
          "height": 35
        },
        "outputId": "15558c11-3e56-4832-d402-0bfc8ea7a21b"
      },
      "cell_type": "code",
      "source": [
        "\n",
        "\n",
        "#os.environ[\"CUDA_VISIBLE_DEVICES\"] = \"0\"\n",
        "\n",
        "from google.colab import drive\n",
        "drive.mount('./DRIVE/', force_remount = True)\n",
        "\n"
      ],
      "execution_count": 3,
      "outputs": [
        {
          "output_type": "stream",
          "text": [
            "Mounted at ./DRIVE/\n"
          ],
          "name": "stdout"
        }
      ]
    },
    {
      "metadata": {
        "id": "wwGyROYqXAyy",
        "colab_type": "code",
        "colab": {}
      },
      "cell_type": "code",
      "source": [
        ""
      ],
      "execution_count": 0,
      "outputs": []
    },
    {
      "metadata": {
        "id": "MeD7N3kVIj91",
        "colab_type": "code",
        "colab": {
          "base_uri": "https://localhost:8080/",
          "height": 34
        },
        "outputId": "8d23ce59-9c9e-4bd0-b128-8c41016f36db"
      },
      "cell_type": "code",
      "source": [
        "!ls \"./DRIVE/My Drive/CHAOS-Data\""
      ],
      "execution_count": 16,
      "outputs": [
        {
          "output_type": "stream",
          "text": [
            "ls: cannot access './DRIVE/Shared with me/CHAOS-Data': No such file or directory\n"
          ],
          "name": "stdout"
        }
      ]
    },
    {
      "metadata": {
        "id": "dMHUPeaFKhbW",
        "colab_type": "code",
        "colab": {
          "base_uri": "https://localhost:8080/",
          "height": 34
        },
        "outputId": "21d02c13-392f-470a-be7f-b0df5b69f062"
      },
      "cell_type": "code",
      "source": [
        "!ls \"./DRIVE/My Drive/CHAOS-Data/MR_data_batch1\""
      ],
      "execution_count": 7,
      "outputs": [
        {
          "output_type": "stream",
          "text": [
            "1  10  13  15  19  2  20  3  5\t8\n"
          ],
          "name": "stdout"
        }
      ]
    },
    {
      "metadata": {
        "id": "Mblzt8LgKn4n",
        "colab_type": "code",
        "colab": {
          "base_uri": "https://localhost:8080/",
          "height": 34
        },
        "outputId": "5bd0dc4a-1e70-41e0-d524-cce2d741f188"
      },
      "cell_type": "code",
      "source": [
        "!ls \"./DRIVE/My Drive/CHAOS-Data/MR_data_batch1/1\""
      ],
      "execution_count": 8,
      "outputs": [
        {
          "output_type": "stream",
          "text": [
            "T1DUAL\tT2SPIR\n"
          ],
          "name": "stdout"
        }
      ]
    },
    {
      "metadata": {
        "id": "mNh0tJLJKrFc",
        "colab_type": "code",
        "colab": {
          "base_uri": "https://localhost:8080/",
          "height": 34
        },
        "outputId": "eed328d9-2f80-4428-ba93-de5790bfb067"
      },
      "cell_type": "code",
      "source": [
        "!ls \"./DRIVE/My Drive/CHAOS-Data/MR_data_batch1/1/T1DUAL\""
      ],
      "execution_count": 9,
      "outputs": [
        {
          "output_type": "stream",
          "text": [
            "DICOM_anon  Ground\n"
          ],
          "name": "stdout"
        }
      ]
    },
    {
      "metadata": {
        "id": "bGuW_13oKuno",
        "colab_type": "code",
        "colab": {
          "base_uri": "https://localhost:8080/",
          "height": 34
        },
        "outputId": "f42df9ca-b6d4-4285-bc8b-e6897e135930"
      },
      "cell_type": "code",
      "source": [
        "!ls \"./DRIVE/My Drive/CHAOS-Data/MR_data_batch1/1/T1DUAL/DICOM_anon\""
      ],
      "execution_count": 14,
      "outputs": [
        {
          "output_type": "stream",
          "text": [
            "ls: cannot access './DRIVE/Shared with me/CHAOS-Data/MR_data_batch1/1/T1DUAL/DICOM_anon': No such file or directory\n"
          ],
          "name": "stdout"
        }
      ]
    },
    {
      "metadata": {
        "id": "Ax4_jBWIK2j9",
        "colab_type": "code",
        "colab": {
          "base_uri": "https://localhost:8080/",
          "height": 34
        },
        "outputId": "7e36f2ec-6672-4eda-efba-931bcc679d1f"
      },
      "cell_type": "code",
      "source": [
        "!ls \"./DRIVE/My Drive/CHAOS-Data/MR_data_batch1/1/T1DUAL/Ground\""
      ],
      "execution_count": 13,
      "outputs": [
        {
          "output_type": "stream",
          "text": [
            "ls: cannot access './DRIVE/Shared with me/CHAOS-Data/MR_data_batch1/1/T1DUAL/Ground': No such file or directory\n"
          ],
          "name": "stdout"
        }
      ]
    },
    {
      "metadata": {
        "id": "DkfjySWZT-W0",
        "colab_type": "code",
        "colab": {
          "base_uri": "https://localhost:8080/",
          "height": 367
        },
        "outputId": "784980d3-706a-4bdc-b7f0-0725bfa6d10a"
      },
      "cell_type": "code",
      "source": [
        "import os\n",
        "import numpy as np\n",
        "import matplotlib.pyplot as plt\n",
        "import skimage.color, skimage.filters, skimage.io, skimage.morphology, skimage.transform, skimage.util\n",
        "\n",
        "\n",
        "imageData = skimage.io.imread(\"./DRIVE/My Drive/CHAOS-Data/MR_data_batch1/1/T1DUAL/Ground/liver_001.png\")\n",
        "plt.imshow(imageData, cmap=plt.cm.gray)"
      ],
      "execution_count": 23,
      "outputs": [
        {
          "output_type": "execute_result",
          "data": {
            "text/plain": [
              "<matplotlib.image.AxesImage at 0x7fefca03f278>"
            ]
          },
          "metadata": {
            "tags": []
          },
          "execution_count": 23
        },
        {
          "output_type": "display_data",
          "data": {
            "image/png": "[encoded data removed]",
            "text/plain": [
              "<matplotlib.figure.Figure at 0x7fefca0ef048>"
            ]
          },
          "metadata": {
            "tags": []
          }
        }
      ]
    },
    {
      "metadata": {
        "id": "rqGI5giIWmRD",
        "colab_type": "code",
        "colab": {}
      },
      "cell_type": "code",
      "source": [
        "# https://stackoverflow.com/questions/37558523/converting-2d-numpy-array-of-grayscale-values-to-a-pil-image\n",
        "import numpy as np\n",
        "from PIL import Image\n",
        "\n",
        "# gradient between 0 and 1 for 256*256\n",
        "array = np.linspace(0,1,256*256)\n",
        "\n",
        "# reshape to 2d\n",
        "mat = np.reshape(array,(256,256))\n",
        "\n",
        "# Creates PIL image\n",
        "img = Image.fromarray(np.uint8(mat * 255) , 'L')\n",
        "img.show()"
      ],
      "execution_count": 0,
      "outputs": []
    },
    {
      "metadata": {
        "id": "3neVw7WzWRJJ",
        "colab_type": "code",
        "colab": {
          "base_uri": "https://localhost:8080/",
          "height": 34
        },
        "outputId": "2fc83e17-320d-411a-bbf9-0a9fd706684f"
      },
      "cell_type": "code",
      "source": [
        "imageData.shape"
      ],
      "execution_count": 24,
      "outputs": [
        {
          "output_type": "execute_result",
          "data": {
            "text/plain": [
              "(256, 256)"
            ]
          },
          "metadata": {
            "tags": []
          },
          "execution_count": 24
        }
      ]
    },
    {
      "metadata": {
        "id": "1bpVRUKtVksX",
        "colab_type": "text"
      },
      "cell_type": "markdown",
      "source": [
        ""
      ]
    },
    {
      "metadata": {
        "id": "kMKh7086U3Gl",
        "colab_type": "code",
        "colab": {
          "base_uri": "https://localhost:8080/",
          "height": 141
        },
        "outputId": "7d2bc691-1180-4370-e323-1d1d69741a65"
      },
      "cell_type": "code",
      "source": [
        "skimage.io.imread(\"./DRIVE/My Drive/CHAOS-Data/MR_data_batch1/1/T1DUAL/Ground/liver_001.png\")"
      ],
      "execution_count": 20,
      "outputs": [
        {
          "output_type": "execute_result",
          "data": {
            "text/plain": [
              "array([[0, 0, 0, ..., 0, 0, 0],\n",
              "       [0, 0, 0, ..., 0, 0, 0],\n",
              "       [0, 0, 0, ..., 0, 0, 0],\n",
              "       ...,\n",
              "       [0, 0, 0, ..., 0, 0, 0],\n",
              "       [0, 0, 0, ..., 0, 0, 0],\n",
              "       [0, 0, 0, ..., 0, 0, 0]], dtype=uint8)"
            ]
          },
          "metadata": {
            "tags": []
          },
          "execution_count": 20
        }
      ]
    },
    {
      "metadata": {
        "id": "avQC-SB8TlqM",
        "colab_type": "text"
      },
      "cell_type": "markdown",
      "source": [
        "## Loading ground truth files\n",
        "\n"
      ]
    },
    {
      "metadata": {
        "id": "W4Lqc5GMTo8F",
        "colab_type": "code",
        "colab": {}
      },
      "cell_type": "code",
      "source": [
        ""
      ],
      "execution_count": 0,
      "outputs": []
    },
    {
      "metadata": {
        "id": "haqERGRDSzOQ",
        "colab_type": "text"
      },
      "cell_type": "markdown",
      "source": [
        "## Loading DICOM files"
      ]
    },
    {
      "metadata": {
        "id": "MBTgkZDYVlqr",
        "colab_type": "text"
      },
      "cell_type": "markdown",
      "source": [
        "We want to convert the DICOM image file into a Numpy array in order to feed it to the network. "
      ]
    },
    {
      "metadata": {
        "id": "kGq1v3_FKul9",
        "colab_type": "code",
        "colab": {}
      },
      "cell_type": "code",
      "source": [
        ""
      ],
      "execution_count": 0,
      "outputs": []
    }
  ]
}